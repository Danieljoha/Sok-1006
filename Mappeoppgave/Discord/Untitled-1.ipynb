{
 "cells": [
  {
   "cell_type": "code",
   "execution_count": 3,
   "metadata": {},
   "outputs": [
    {
     "name": "stdout",
     "output_type": "stream",
     "text": [
      "MTA4NDI2NjQxMDUxNzIyMTM3Ng.GJvZdl.H3SE9XvFF6txiz6m_O7LNfJMt0F720dJ6PBKRA\n"
     ]
    }
   ],
   "source": [
    "import os\n",
    "from dotenv import load_dotenv\n",
    "import discord\n",
    "from discord.ext import commands\n",
    "import requests\n",
    "from bs4 import BeautifulSoup\n",
    "\n",
    "\n",
    "\n",
    "# Load environment variables from .env file\n",
    "load_dotenv(dotenv_path=r'C:\\Users\\Daniel\\Documents\\Rstudio GIT\\Sok-1006\\Sok-1006\\Mappeoppgave\\Discord\\secret_bot.env')\n",
    "# Read the Discord bot token from environment variable\n",
    "DISCORD_BOT_TOKEN = os.getenv('secret_bot')\n",
    "\n",
    "print(DISCORD_BOT_TOKEN)"
   ]
  }
 ],
 "metadata": {
  "kernelspec": {
   "display_name": "Python 3",
   "language": "python",
   "name": "python3"
  },
  "language_info": {
   "codemirror_mode": {
    "name": "ipython",
    "version": 3
   },
   "file_extension": ".py",
   "mimetype": "text/x-python",
   "name": "python",
   "nbconvert_exporter": "python",
   "pygments_lexer": "ipython3",
   "version": "3.11.2"
  },
  "orig_nbformat": 4
 },
 "nbformat": 4,
 "nbformat_minor": 2
}
