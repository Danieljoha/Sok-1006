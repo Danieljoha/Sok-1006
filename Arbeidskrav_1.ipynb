{
 "cells": [
  {
   "attachments": {},
   "cell_type": "markdown",
   "metadata": {},
   "source": [
    "\n",
    "\n",
    "Oppgaver i 7.1:\n",
    "\n",
    "1. Plott en figur som likner på Fig 1 i Stewart\n",
    "\n",
    "Links to an external site.. Gjør deloppgave a og b\n",
    "\n",
    "2. Tegn tilbud og etterspørsel. Deloppgave a, b, c , d.\n",
    "\n",
    "3. Tegn inn et shock til tilbud. Deloppgave a og b (IKKE c)\n",
    "\n",
    "Oppgaver i 7.2\n",
    "\n",
    "1. Beregn priselastisitene. Deloppgave a og b\n",
    "\n",
    "2. Tolk estimatene i tilbudslikningen (Coefficient). IKKE bry deg om \"95% confidence interval\"\n",
    "\n",
    "3. Tolk estimatene i etterspørselslikningen\n",
    "\n",
    "4. Gi eksempler på shock\n"
   ]
  }
 ],
 "metadata": {
  "kernelspec": {
   "display_name": "base",
   "language": "python",
   "name": "python3"
  },
  "language_info": {
   "name": "python",
   "version": "3.9.13 (main, Aug 25 2022, 23:51:50) [MSC v.1916 64 bit (AMD64)]"
  },
  "orig_nbformat": 4,
  "vscode": {
   "interpreter": {
    "hash": "92d1c8824dd9ed58f2e2fe7d35df9188f2132fcf69312c535170a29d4fbf29a8"
   }
  }
 },
 "nbformat": 4,
 "nbformat_minor": 2
}
