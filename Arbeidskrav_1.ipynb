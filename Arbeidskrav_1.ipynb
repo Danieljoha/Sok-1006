{
 "cells": [
  {
   "attachments": {},
   "cell_type": "markdown",
   "metadata": {},
   "source": [
    "\n",
    "\n",
    "Oppgaver i 7.1:\n",
    "\n",
    "1. Plott en figur som likner på Fig 1 i Stewart\n",
    "\n",
    "Links to an external site.. Gjør deloppgave a og b\n",
    "\n",
    "2. Tegn tilbud og etterspørsel. Deloppgave a, b, c , d.\n",
    "\n",
    "3. Tegn inn et shock til tilbud. Deloppgave a og b (IKKE c)\n",
    "\n",
    "Oppgaver i 7.2\n",
    "\n",
    "1. Beregn priselastisitene. Deloppgave a og b\n",
    "\n",
    "2. Tolk estimatene i tilbudslikningen (Coefficient). IKKE bry deg om \"95% confidence interval\"\n",
    "\n",
    "3. Tolk estimatene i etterspørselslikningen\n",
    "\n",
    "4. Gi eksempler på shock\n"
   ]
  },
  {
   "cell_type": "code",
   "execution_count": null,
   "metadata": {},
   "outputs": [],
   "source": [
    "import pandas as pd\n",
    "import numpy as np\n",
    "import matplotlib.pyplot as plt\n",
    "import sympy as sp\n",
    "\n",
    "# Import data from URL with the correct delimiter\n",
    "df = pd.read_csv(\"https://uit-sok-1006-v23.github.io/data/suits_watermelons.csv\", delimiter=\";\")"
   ]
  },
  {
   "attachments": {},
   "cell_type": "markdown",
   "metadata": {},
   "source": [
    "Oppgave 1 A"
   ]
  },
  {
   "cell_type": "code",
   "execution_count": null,
   "metadata": {},
   "outputs": [],
   "source": [
    "\n",
    "q = np.exp(df.iloc[:,1])\n",
    "h = np.exp(df.iloc[:,2])\n",
    "p = np.exp(df.iloc[:,3]) #Lager variabler for q h p\n",
    "\n",
    "year =  df.iloc[:,0] #lager variabel for år\n"
   ]
  },
  {
   "attachments": {},
   "cell_type": "markdown",
   "metadata": {},
   "source": [
    "Oppgave 1B"
   ]
  },
  {
   "cell_type": "code",
   "execution_count": null,
   "metadata": {},
   "outputs": [],
   "source": [
    "\n",
    "\n",
    "\n",
    "\n",
    "def Oppgave_1b():\n",
    "                fig, ax = plt.subplots(1,2, figsize=(15,5))\n",
    "                for i in range(2):\n",
    "                    ax[i].set_xlabel('Year')\n",
    "                    ax[i].spines['top'].set_color('none')\n",
    "                    ax[i].spines['right'].set_color('none')\n",
    "                return fig, ax\n",
    "\n",
    "\n",
    "fig, ax = Oppgave_1b()\n",
    "ax[0].set_ylabel('Price (Dollars per thousand)', loc='center')\n",
    "ax[1].set_ylabel('Crop and harvest in millions', loc='center')\n",
    "\n",
    "\n",
    "ax[0].plot(year, p, label= 'Price')\n",
    "ax[1].plot(year, h, 'o--' , label='Harvest')\n",
    "ax[1].plot(year, q, 'o-', label=\"Crop\")\n",
    "\n",
    "\n",
    "ax[0].legend(loc='best',frameon=False)\n",
    "ax[1].legend(loc='best',frameon=False)\n",
    "\n",
    "fig.suptitle('Watermelom price and quantities, 1930-1951');\n",
    "print(fig)"
   ]
  },
  {
   "attachments": {},
   "cell_type": "markdown",
   "metadata": {},
   "source": [
    "Oppgave 2a"
   ]
  },
  {
   "cell_type": "code",
   "execution_count": null,
   "metadata": {},
   "outputs": [],
   "source": [
    "Q = np.arange(20, 100, 5)\n",
    "\n",
    "Oppgave_2a = pd.DataFrame(Q, columns=[\"Q\"])\n",
    "\n",
    "print(Oppgave_2a)"
   ]
  },
  {
   "attachments": {},
   "cell_type": "markdown",
   "metadata": {},
   "source": [
    "Oppgave 2B og C"
   ]
  },
  {
   "cell_type": "code",
   "execution_count": 79,
   "metadata": {},
   "outputs": [
    {
     "name": "stdout",
     "output_type": "stream",
     "text": [
      "    Q (In millions)     Log Q  Supply Log P  Demand log P    Supply P  \\\n",
      "0                20  2.995732      3.092745      6.043500   22.037485   \n",
      "1                25  3.218876      3.472089      5.860522   32.203943   \n",
      "2                30  3.401197      3.782036      5.711018   43.905322   \n",
      "3                35  3.555348      4.044092      5.584615   57.059336   \n",
      "4                40  3.688879      4.271095      5.475119   71.600000   \n",
      "5                45  3.806662      4.471326      5.378537   87.472655   \n",
      "6                50  3.912023      4.650439      5.292141  104.630920   \n",
      "7                55  4.007333      4.812466      5.213987  123.034698   \n",
      "8                60  4.094345      4.960386      5.142637  142.648813   \n",
      "9                65  4.174387      5.096458      5.077002  163.442028   \n",
      "10               70  4.248495      5.222442      5.016234  185.386329   \n",
      "11               75  4.317488      5.339730      4.959660  208.456376   \n",
      "12               80  4.382027      5.449445      4.906738  232.629086   \n",
      "13               85  4.442651      5.552507      4.857026  257.883295   \n",
      "14               90  4.499810      5.649676      4.810156  284.199495   \n",
      "15               95  4.553877      5.741591      4.765821  311.559620   \n",
      "\n",
      "      Demand P  \n",
      "0   421.365040  \n",
      "1   350.907208  \n",
      "2   302.178574  \n",
      "3   266.297629  \n",
      "4   238.678832  \n",
      "5   216.704952  \n",
      "6   198.768561  \n",
      "7   183.825472  \n",
      "8   171.166618  \n",
      "9   160.292847  \n",
      "10  150.842146  \n",
      "11  142.545286  \n",
      "12  135.197701  \n",
      "13  128.641050  \n",
      "14  122.750774  \n",
      "15  117.427480  \n"
     ]
    }
   ],
   "source": [
    "Log_Q = np.log(Q)\n",
    "Supply_P_Log = -2 + 1.7*Log_Q \n",
    "Demand_P_Log = 8.5 - 0.82*Log_Q\n",
    "Supply_P = np.exp(Supply_P_Log)\n",
    "Demand_P = np.exp(Demand_P_Log)\n",
    "\n",
    "table = {\"Q (In millions)\":Q, \"Log Q\":Log_Q, \"Supply Log P\":Supply_P_Log, \"Demand log P\":Demand_P_Log, \"Supply P\":Supply_P, \"Demand P\":Demand_P}\n",
    "Oppgave_2b = pd.DataFrame(table)\n",
    "print(Oppgave_2b)\n"
   ]
  },
  {
   "attachments": {},
   "cell_type": "markdown",
   "metadata": {},
   "source": [
    "Oppgave 2D"
   ]
  },
  {
   "cell_type": "code",
   "execution_count": null,
   "metadata": {},
   "outputs": [],
   "source": []
  },
  {
   "cell_type": "code",
   "execution_count": null,
   "metadata": {},
   "outputs": [],
   "source": []
  },
  {
   "cell_type": "code",
   "execution_count": null,
   "metadata": {},
   "outputs": [],
   "source": []
  },
  {
   "cell_type": "code",
   "execution_count": null,
   "metadata": {},
   "outputs": [],
   "source": []
  }
 ],
 "metadata": {
  "kernelspec": {
   "display_name": "base",
   "language": "python",
   "name": "python3"
  },
  "language_info": {
   "codemirror_mode": {
    "name": "ipython",
    "version": 3
   },
   "file_extension": ".py",
   "mimetype": "text/x-python",
   "name": "python",
   "nbconvert_exporter": "python",
   "pygments_lexer": "ipython3",
   "version": "3.9.13"
  },
  "orig_nbformat": 4,
  "vscode": {
   "interpreter": {
    "hash": "92d1c8824dd9ed58f2e2fe7d35df9188f2132fcf69312c535170a29d4fbf29a8"
   }
  }
 },
 "nbformat": 4,
 "nbformat_minor": 2
}
